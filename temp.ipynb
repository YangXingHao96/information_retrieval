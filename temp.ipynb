{
 "cells": [
  {
   "cell_type": "code",
   "execution_count": 19,
   "metadata": {},
   "outputs": [
    {
     "name": "stdout",
     "output_type": "stream",
     "text": [
      "[{'body': ['CCP owned TikTok report by @RealPNavarro blocked by Twitter. In an around about way is Twitter controlled by CCP through @elonmusk CCP  Tesla loans for manufacturing plants in China?\\n@LauraLoomer \\n@EmeraldRobinson \\n@RepMattGaetz \\n@SenatorHawleyMO @RepJamesComer \\n@JackPosobiec'], 'id': '47a60e43-c9f3-4adf-9d5a-d5947420093c', 'like_num': 0, 'sentiment': 0, 'ticker_symbol': 'tesla', 'tweet_id': 1638910843407704065, 'post_date': '2023-03-23 14:29:29+00:00', 'retweet_num': 0, 'writer': 'AKOutdoorJunkie'}, {'body': ['@EzerRatchaga Enough …'], 'id': 'aeccc8cd-a65c-4447-a1ec-826af865cd2a', 'like_num': 0, 'sentiment': 1, 'ticker_symbol': 'tesla', 'tweet_id': 1638910834821722112, 'post_date': '2023-03-23 14:29:27+00:00', 'retweet_num': 0, 'writer': 'TeslaWoman'}, {'body': ['30w.  This etf is mostly Amazon and Tesla https://t.co/dLmIXJlGy3'], 'id': '43465887-577c-49ca-9b38-8d63d3f88c75', 'like_num': 0, 'sentiment': 1, 'ticker_symbol': 'tesla', 'tweet_id': 1638910834805194754, 'post_date': '2023-03-23 14:29:27+00:00', 'retweet_num': 0, 'writer': 'FlyrUsr'}, {'body': ['@SERobinsonJr @elonmusk @Tesla So the problem is the robots will replace manufacturing workers in China?'], 'id': 'a6e44a63-7880-49ca-adaa-6ed76b7883b9', 'like_num': 0, 'sentiment': 0, 'ticker_symbol': 'tesla', 'tweet_id': 1638910816329273350, 'post_date': '2023-03-23 14:29:22+00:00', 'retweet_num': 0, 'writer': 'meepstone0'}, {'body': ['@ilovelystiel KURWA FR DOJEBANE'], 'id': '04b97d1c-3ae4-498d-8de7-d7aa61950605', 'like_num': 0, 'sentiment': 1, 'ticker_symbol': 'tesla', 'tweet_id': 1638910784699875328, 'post_date': '2023-03-23 14:29:15+00:00', 'retweet_num': 0, 'writer': 'teslagessla'}, {'body': ['dios q mierda es el algoritmo este porque me aparecen cosas de gente que no sigo la re sustenable concha de tu hermana @elonmusk metete un tesla en el orto'], 'id': '620ed41f-2306-4d93-a4a9-116c53d7ff9c', 'like_num': 0, 'sentiment': 0, 'ticker_symbol': 'tesla', 'tweet_id': 1638910779817689088, 'post_date': '2023-03-23 14:29:14+00:00', 'retweet_num': 0, 'writer': 'AleRosa2001'}, {'body': ['@elonmusk @POTUS So is Tesla.'], 'id': '7a6b0282-6891-46f0-b729-8b97661810c7', 'like_num': 0, 'sentiment': 1, 'ticker_symbol': 'tesla', 'tweet_id': 1638910776735043585, 'post_date': '2023-03-23 14:29:13+00:00', 'retweet_num': 0, 'writer': 'MikaelMcC'}, {'body': ['お掃除完了おめでとう！だぁ #ミミフル'], 'id': '5de4e4c0-232e-46ed-bc64-05ada5ffdf7c', 'like_num': 0, 'sentiment': 1, 'ticker_symbol': 'tesla', 'tweet_id': 1638910770712027137, 'post_date': '2023-03-23 14:29:11+00:00', 'retweet_num': 0, 'writer': '256Tesla'}, {'body': ['@farzyness will be hard to turn those numbers around. Tesla managed it because they were the first company, they took advantage of all the eager demand for an EV. Now, those costumers that would pay any amount for an EV, already have one'], 'id': '27a506b2-2320-42fa-8d0c-8c2c955f197b', 'like_num': 0, 'sentiment': 1, 'ticker_symbol': 'tesla', 'tweet_id': 1638910765938688000, 'post_date': '2023-03-23 14:29:10+00:00', 'retweet_num': 0, 'writer': 'BenkyTw'}, {'body': ['@wealthnavi_days つまり、ドロンと消えちゃうって事ですね。投資先への電話が繋がらない事態に…😂'], 'id': '45b3de79-20a5-47b2-b233-8b350810ec67', 'like_num': 0, 'sentiment': 1, 'ticker_symbol': 'tesla', 'tweet_id': 1638910745839828992, 'post_date': '2023-03-23 14:29:05+00:00', 'retweet_num': 0, 'writer': 'doki2chiki2'}]\n"
     ]
    },
    {
     "name": "stderr",
     "output_type": "stream",
     "text": [
      "/var/folders/rm/5r7vqh_d4sgdwl_xbx4fq_bw0000gn/T/ipykernel_42069/77078465.py:31: DeprecatedFeatureWarning: username is deprecated, use user.username instead\n",
      "  \"writer\": tweet.username,\n"
     ]
    }
   ],
   "source": [
    "\n",
    "from nltk.sentiment.vader import SentimentIntensityAnalyzer\n",
    "import snscrape.modules.twitter as twitter\n",
    "import pandas as pd\n",
    "import itertools\n",
    "import pysolr\n",
    "import uuid\n",
    "import nltk\n",
    "# nltk.download(\"vader_lexicon\")\n",
    "def crawl_from_twitter(cnt: int, query_term: str)-> list[list[str], str]:\n",
    "    sent_analyser = SentimentIntensityAnalyzer()\n",
    "    tweets = twitter.TwitterSearchScraper(query_term).get_items()\n",
    "    sliced_scraped_tweets = itertools.islice(tweets, 10)\n",
    "    solr = pysolr.Solr(\n",
    "        'http://localhost:8983/solr/test_core', always_commit=True)\n",
    "    tweets_to_add = []\n",
    "    for tweet in sliced_scraped_tweets:\n",
    "        sentiment = 0\n",
    "        if sent_analyser.polarity_scores(tweet.rawContent)[\"compound\"]>=0:\n",
    "            sentiment = 1\n",
    "        else:\n",
    "            sentiment = 0\n",
    "        temp = {\n",
    "            \"body\": [tweet.rawContent],\n",
    "            \"id\": str(uuid.uuid4()),\n",
    "            \"like_num\": tweet.likeCount,\n",
    "            \"sentiment\": sentiment,\n",
    "            \"ticker_symbol\": query_term,\n",
    "            \"tweet_id\": tweet.id,\n",
    "            \"post_date\": str(tweet.date),\n",
    "            \"retweet_num\": tweet.retweetCount,\n",
    "            \"writer\": tweet.user.username,\n",
    "        }\n",
    "        tweets_to_add.append(temp)\n",
    "    solr.add(tweets_to_add)\n",
    "    return \n",
    "crawl_from_twitter(10, \"tesla\")"
   ]
  }
 ],
 "metadata": {
  "kernelspec": {
   "display_name": "Python 3",
   "language": "python",
   "name": "python3"
  },
  "language_info": {
   "codemirror_mode": {
    "name": "ipython",
    "version": 3
   },
   "file_extension": ".py",
   "mimetype": "text/x-python",
   "name": "python",
   "nbconvert_exporter": "python",
   "pygments_lexer": "ipython3",
   "version": "3.10.2"
  },
  "orig_nbformat": 4
 },
 "nbformat": 4,
 "nbformat_minor": 2
}
